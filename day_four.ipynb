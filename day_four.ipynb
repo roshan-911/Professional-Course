{
 "cells": [
  {
   "cell_type": "code",
   "execution_count": null,
   "id": "fb57a620-f5b1-4e10-a91c-7bcc6e803339",
   "metadata": {},
   "outputs": [],
   "source": [
    "# Q1. Write a program to print multiplication table of a given number(accept number from user)\n",
    "# eg. if user input 3\n",
    "# 3 x 1 = 3\n",
    "# 3 x 2 = 6 and so on\n",
    "# Q2. Accept 10 numbers from user and display average of it.\n",
    "# Q3. Write a program to display numbers which is divisible by only 11 from 100 to 300."
   ]
  },
  {
   "cell_type": "code",
   "execution_count": null,
   "id": "83de7963-d8f3-4d37-a6a8-5cc9f3e64f39",
   "metadata": {},
   "outputs": [],
   "source": [
    "#  WAP tp print multiplication table of a given number( accept number from user)\n",
    "num = int(input(\"Enter the number\"))\n",
    "for i "
   ]
  }
 ],
 "metadata": {
  "kernelspec": {
   "display_name": "Python 3 (ipykernel)",
   "language": "python",
   "name": "python3"
  },
  "language_info": {
   "codemirror_mode": {
    "name": "ipython",
    "version": 3
   },
   "file_extension": ".py",
   "mimetype": "text/x-python",
   "name": "python",
   "nbconvert_exporter": "python",
   "pygments_lexer": "ipython3",
   "version": "3.12.3"
  }
 },
 "nbformat": 4,
 "nbformat_minor": 5
}
