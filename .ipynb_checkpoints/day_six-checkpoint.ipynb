{
 "cells": [
  {
   "cell_type": "code",
   "execution_count": null,
   "id": "d0b93a73-c49e-4271-adff-4f661e094eb7",
   "metadata": {},
   "outputs": [
    {
     "name": "stdout",
     "output_type": "stream",
     "text": [
      "Welcome to the Number GGuessing game!\n",
      "Try guessing number between 1 and 100\n",
      "Try to guess the number!\n"
     ]
    }
   ],
   "source": [
    "\"\"\"\n",
    "Q1. Develop a game where the computer randomly selects a number within a specified range, and the user has to guess the number.\n",
    "Provide hints if the guessed number is too high or too low.\n",
    "After user guess correct number display guess attempts and the exact answer too.\n",
    "Make sure user does not input other than integer, if its other data type show them invalid input.\n",
    "Hint: Use while loop, generate random number use python random.randint() function\n",
    "\"\"\"\n",
    "import random\n",
    "def number_guessing_game():\n",
    "    lower_bound = 1\n",
    "    upper_bound = 100\n",
    "    number_to_guess = random.randint(lower_bound, upper_bound)\n",
    "    print(f\"Welcome to the Number GGuessing game!\")\n",
    "    print(f\"Try guessing number between {lower_bound} and {upper_bound}\")\n",
    "    print(\"Try to guess the number!\")\n",
    "    \n",
    "    attempts = 0\n",
    "\n",
    "    while True:\n",
    "        try:\n",
    "            user_guess = int(input(\"Enter your guess: \"))\n",
    "        except ValueError:\n",
    "            print(\"Invalid input. Please enter a valid number.\")\n",
    "            continue\n",
    "\n",
    "        # Increment the attempt counter\n",
    "        attempts += 1\n",
    "\n",
    "        # Check if the guess is correct\n",
    "        if user_guess < number_to_guess:\n",
    "            print(\"Your Guess is Too low! Please Try again.\\n\")\n",
    "        elif user_guess > number_to_guess:\n",
    "            print(\"Your Guess is Too high! Please Try again.\\n\")\n",
    "        else:\n",
    "            print(f\"The random number was {number_to_guess}.\")\n",
    "            print(f\"Congratulations! You guessed the number in {attempts} attempts.\")\n",
    "            break\n",
    "\n",
    "number_guessing_game()"
   ]
  },
  {
   "cell_type": "code",
   "execution_count": null,
   "id": "7235bdf2",
   "metadata": {},
   "outputs": [],
   "source": [
    "\"\"\"\n",
    "Write a Python function that accepts a string and counts the number of upper and lower case letters.\n",
    "Sample String : 'The quick Brow Fox'\n",
    "Expected Output :\n",
    "No. of Upper case characters: 3\n",
    "No. of Lower case Characters : 12\n",
    "\n",
    "Note: If you can take string input from user you can do it .\n",
    "\"\"\"\n",
    "\n"
   ]
  }
 ],
 "metadata": {
  "kernelspec": {
   "display_name": "Python 3 (ipykernel)",
   "language": "python",
   "name": "python3"
  },
  "language_info": {
   "codemirror_mode": {
    "name": "ipython",
    "version": 3
   },
   "file_extension": ".py",
   "mimetype": "text/x-python",
   "name": "python",
   "nbconvert_exporter": "python",
   "pygments_lexer": "ipython3",
   "version": "3.12.3"
  }
 },
 "nbformat": 4,
 "nbformat_minor": 5
}
