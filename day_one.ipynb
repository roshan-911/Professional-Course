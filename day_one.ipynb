{
 "cells": [
  {
   "cell_type": "code",
   "execution_count": 1,
   "id": "3689041f",
   "metadata": {},
   "outputs": [
    {
     "name": "stdout",
     "output_type": "stream",
     "text": [
      "\n"
     ]
    }
   ],
   "source": [
    "name = input(\"What is your Name?\")\n",
    "print(name)"
   ]
  },
  {
   "cell_type": "code",
   "execution_count": 2,
   "id": "9897c9c0",
   "metadata": {},
   "outputs": [
    {
     "name": "stdout",
     "output_type": "stream",
     "text": [
      "\n"
     ]
    }
   ],
   "source": [
    "name = input(\"What is your name\")\n",
    "print(name)"
   ]
  },
  {
   "cell_type": "code",
   "execution_count": null,
   "id": "b93ecff9-f324-44d6-bbad-17e4794c170c",
   "metadata": {},
   "outputs": [
    {
     "name": "stdout",
     "output_type": "stream",
     "text": [
      "Hello World!\n"
     ]
    }
   ],
   "source": [
    "print(\"Hello World!\")"
   ]
  },
  {
   "cell_type": "code",
   "execution_count": 3,
   "id": "38f26ff8-e7c4-4f43-ad65-75f031236553",
   "metadata": {},
   "outputs": [
    {
     "name": "stdout",
     "output_type": "stream",
     "text": [
      "<class 'str'>\n",
      "<class 'int'>\n"
     ]
    }
   ],
   "source": [
    "name = 'Ram'\n",
    "print(type(name))\n",
    "Age = 20\n",
    "print(type(Age))\n",
    "\n",
    "naame = input(\"What is Your Name\")\n",
    "print(\"My name is \" + naame)\n",
    "\n",
    "\n",
    "# WAP to create an app that can calculate user's age bi its date of birth\n",
    "year_of_birth = input(\"Enter your year of birth\")\n",
    "current_year = 2024\n",
    "current_age = current_year - int(year_of_birth)\n",
    "\n",
    "print(\"Your current age is: \")\n",
    "print(current_age)\n",
    "\n",
    "# Using Condition\n",
    "if current_age < 18:\n",
    "    print(\"You are not eligible to enter\")\n",
    "else:\n",
    "    print(\"Yes you can enter the hall\")"
   ]
  },
  {
   "cell_type": "code",
   "execution_count": 1,
   "id": "8fc11c28",
   "metadata": {},
   "outputs": [],
   "source": [
    "name = input(\"What is your Name?\")\n",
    "print(name)"
   ]
  }
 ],
 "metadata": {
  "kernelspec": {
   "display_name": "Python 3 (ipykernel)",
   "language": "python",
   "name": "python3"
  },
  "language_info": {
   "codemirror_mode": {
    "name": "ipython",
    "version": 3
   },
   "file_extension": ".py",
   "mimetype": "text/x-python",
   "name": "python",
   "nbconvert_exporter": "python",
   "pygments_lexer": "ipython3",
   "version": "3.12.3"
  }
 },
 "nbformat": 4,
 "nbformat_minor": 5
}
