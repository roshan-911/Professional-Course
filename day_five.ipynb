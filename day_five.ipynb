{
 "cells": [
  {
   "cell_type": "code",
   "execution_count": 1,
   "metadata": {},
   "outputs": [
    {
     "name": "stdout",
     "output_type": "stream",
     "text": [
      "('apple', 'banana', 'cherry')\n"
     ]
    }
   ],
   "source": [
    "# Tuples\n",
    "fruitsData = (\"apple\", \"banana\", \"cherry\")\n",
    "print(fruitsData)\n"
   ]
  },
  {
   "cell_type": "code",
   "execution_count": 2,
   "metadata": {},
   "outputs": [
    {
     "name": "stdout",
     "output_type": "stream",
     "text": [
      "Ford\n",
      "dict_keys(['brand', 'model', 'year'])\n",
      "dict_values(['Ford', 'Mustang', 1965])\n",
      "Mustang\n"
     ]
    }
   ],
   "source": [
    "# Dictonaries\n",
    "carDetails = {\n",
    "    \"brand\": \"Ford\",\n",
    "    \"model\": \"Mustang\",\n",
    "    \"year\": 1965\n",
    "}\n",
    "print(carDetails[\"brand\"])\n",
    "print(carDetails.keys())\n",
    "print(carDetails.values())\n",
    "print(carDetails.get(\"model\"))"
   ]
  },
  {
   "cell_type": "code",
   "execution_count": 8,
   "metadata": {},
   "outputs": [
    {
     "name": "stdout",
     "output_type": "stream",
     "text": [
      "{'brand': 'Tesla', 'model': 'Mustang', 'year': 1965, 'color': 'Coal', 'mileage': 81}\n"
     ]
    }
   ],
   "source": [
    "# Dict add and update\n",
    "carDetails = {\n",
    "    \"brand\": \"Ford\",\n",
    "    \"model\": \"Mustang\",\n",
    "    \"year\": 1965\n",
    "}\n",
    "carDetails[\"color\"] = \"Coal\"\n",
    "carDetails[\"brand\"] = \"Tesla\"\n",
    "carDetails.update({'mileage': 81})\n",
    "print(carDetails)\n"
   ]
  },
  {
   "cell_type": "code",
   "execution_count": 9,
   "metadata": {},
   "outputs": [
    {
     "name": "stdout",
     "output_type": "stream",
     "text": [
      "{'brand': 'Ford', 'Year': 1989}\n"
     ]
    }
   ],
   "source": [
    "# Dict Removing Items(Pop Item)\n",
    "# Note: Pop lai argument necessary hunxa\n",
    "# Popitem ma argument necessary hudaina and data remove last dekhi garne garxaa\n",
    "\n",
    "carInfo = {\n",
    "    \"brand\": \"Ford\",\n",
    "    \"model\": \"Mustang\",\n",
    "    \"Year\": 1989\n",
    "}\n",
    "carInfo.pop(\"model\")\n",
    "print(carInfo)\n"
   ]
  },
  {
   "cell_type": "code",
   "execution_count": 15,
   "metadata": {},
   "outputs": [
    {
     "name": "stdout",
     "output_type": "stream",
     "text": [
      "name\n",
      "grade\n",
      "age\n",
      "John\n",
      "XII\n",
      "20\n",
      "name John\n",
      "grade XII\n",
      "age 20\n",
      "Nested Dictionary Items\n",
      "2020\n"
     ]
    }
   ],
   "source": [
    "#Loops through Dictionary\n",
    "student = {\n",
    "    \"name\": \"John\",\n",
    "    \"grade\": \"XII\",\n",
    "    \"age\": 20\n",
    "}\n",
    "for x in student:\n",
    "    print(x)\n",
    "for x in student.values():\n",
    "    print(x)\n",
    "for x,y in student.items():\n",
    "    print(x,y)\n",
    "print(\"####Nested Dictionary Items#####\")\n",
    "texasStudent = {\n",
    "    \"firstYear\":{\n",
    "        \"course\": \"BIT\",\n",
    "        \"batch\": 2020\n",
    "    },\n",
    "    \"secondYear\": {\n",
    "        \"course\": \"BHM\",\n",
    "        \"batch\": 2021\n",
    "    },\n",
    "    \"thirdYear\": {\n",
    "        \"course\": \"BBA\",\n",
    "        \"batch\": 2019\n",
    "    }\n",
    "}\n",
    "print(texasStudent[\"firstYear\"][\"batch\"])\n"
   ]
  },
  {
   "cell_type": "code",
   "execution_count": 6,
   "metadata": {},
   "outputs": [
    {
     "name": "stdout",
     "output_type": "stream",
     "text": [
      "john Doe\n",
      "john Doe\n"
     ]
    }
   ],
   "source": [
    "# # Functions\n",
    "# def calculate():\n",
    "#     print(\"Hello World!\")\n",
    "# calculate()\n",
    "##########\n",
    "#With Argument\n",
    "def combine(fname,lname):\n",
    "    print(fname+\" \"+ lname)\n",
    "# Calling the function\n",
    "combine(\"john\",\"Doe\")\n",
    "###########\n",
    "#With PArameters\n",
    "def combineNames(fname=\"john\", lname=\"Doe\"):\n",
    "    print(fname+\" \"+ lname)\n",
    "# Calling the function\n",
    "combineNames()"
   ]
  },
  {
   "cell_type": "code",
   "execution_count": 8,
   "metadata": {},
   "outputs": [
    {
     "name": "stdout",
     "output_type": "stream",
     "text": [
      "Hello user the square number is 49\n"
     ]
    }
   ],
   "source": [
    "def square(number):\n",
    "    output = number*number\n",
    "    return output\n",
    "def display():\n",
    "    value = square(7)\n",
    "    print(f\"Hello user the square number is {value}\")\n",
    "display()"
   ]
  },
  {
   "cell_type": "code",
   "execution_count": null,
   "metadata": {},
   "outputs": [],
   "source": [
    "# Recursion\n"
   ]
  }
 ],
 "metadata": {
  "kernelspec": {
   "display_name": "Python 3",
   "language": "python",
   "name": "python3"
  },
  "language_info": {
   "codemirror_mode": {
    "name": "ipython",
    "version": 3
   },
   "file_extension": ".py",
   "mimetype": "text/x-python",
   "name": "python",
   "nbconvert_exporter": "python",
   "pygments_lexer": "ipython3",
   "version": "3.12.3"
  }
 },
 "nbformat": 4,
 "nbformat_minor": 2
}
