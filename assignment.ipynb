{
 "cells": [
  {
   "cell_type": "code",
   "execution_count": null,
   "id": "bba02d0e-616a-4094-a0ee-f860084c66b9",
   "metadata": {},
   "outputs": [],
   "source": [
    "# Task 1\n",
    "# Write a python program to display students grade\n",
    "# First ask user score using input method\n",
    "# Check if user score above 90, print your grade is A\n",
    "# Check if user score above 75, print your grade is B\n",
    "# Check if user score above 65, print your grade is C\n",
    "# Check if user score below 40, print your grade is Fail"
   ]
  },
  {
   "cell_type": "code",
   "execution_count": 7,
   "id": "a49094fc-3297-4ac7-ac8b-aaebf15bc5aa",
   "metadata": {},
   "outputs": [
    {
     "name": "stdin",
     "output_type": "stream",
     "text": [
      "Enter the score you obtained 90\n"
     ]
    },
    {
     "name": "stdout",
     "output_type": "stream",
     "text": [
      "Your Grade is A\n"
     ]
    }
   ],
   "source": [
    "score = int(input(\"Enter the score you obtained\"))\n",
    "if score >= 90:\n",
    "    print(\"Your Grade is A\")\n",
    "elif score >= 75:\n",
    "    print(\"Your Grade is B\")\n",
    "elif score >= 65:\n",
    "    print(\"Your Grade is C\")\n",
    "elif score <= 40:\n",
    "    print(\"Your Grade is Fail\")\n",
    "else:\n",
    "    print(\"You are Fail\")\n",
    "    \n"
   ]
  },
  {
   "cell_type": "code",
   "execution_count": null,
   "id": "11a25453-8075-489a-9063-3b59959abfcb",
   "metadata": {},
   "outputs": [],
   "source": [
    "user_score = float(input(\"Enter Your Score: \"))\n",
    "if user_score >= 90:\n",
    "    print(\"Your grade is A\")\n",
    "elif user_score >= 75:\n",
    "    print(\"Your grade is B\")\n",
    "elif user_score >= 65:\n",
    "    print(\"Your grade is C\")\n",
    "else:\n",
    "    print(\"Your grade is Fail\")"
   ]
  }
 ],
 "metadata": {
  "kernelspec": {
   "display_name": "Python 3 (ipykernel)",
   "language": "python",
   "name": "python3"
  },
  "language_info": {
   "codemirror_mode": {
    "name": "ipython",
    "version": 3
   },
   "file_extension": ".py",
   "mimetype": "text/x-python",
   "name": "python",
   "nbconvert_exporter": "python",
   "pygments_lexer": "ipython3",
   "version": "3.12.3"
  }
 },
 "nbformat": 4,
 "nbformat_minor": 5
}
