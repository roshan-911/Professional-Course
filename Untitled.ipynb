{
 "cells": [
  {
   "cell_type": "code",
   "execution_count": 6,
   "id": "6b625cde-a1e6-4227-867e-ded4060c23d9",
   "metadata": {},
   "outputs": [
    {
     "name": "stdin",
     "output_type": "stream",
     "text": [
      "Enter the unit of your electricity:  201\n"
     ]
    },
    {
     "name": "stdout",
     "output_type": "stream",
     "text": [
      "510.0\n"
     ]
    }
   ],
   "source": [
    "\"\"\"\n",
    "WAP to carry the electricity bill according to the following criteria:\n",
    "First 100 units --> no charges\n",
    "Next 100 units  --> Rs 5 per unit\n",
    "After 200 units --> Rs 100 per unit\n",
    "\"\"\"\n",
    "amount = 0\n",
    "unit = float(input(\"Enter the unit of your electricity: \"))\n",
    "if unit <= 100:\n",
    "    amount = 0\n",
    "elif unit > 100 and unit <= 200:\n",
    "    amount = (unit - 100)* 5\n",
    "elif unit > 200:\n",
    "    amount =(100*5)+(unit - 200)* 10\n",
    "print(amount)"
   ]
  },
  {
   "cell_type": "code",
   "execution_count": 8,
   "id": "11860fb1-007e-410f-bd2d-52914e10026a",
   "metadata": {},
   "outputs": [
    {
     "name": "stdout",
     "output_type": "stream",
     "text": [
      "apple\n",
      "banana\n",
      "grapes\n",
      "Inside Else Block\n"
     ]
    }
   ],
   "source": [
    "# for loop with else example\n",
    "fruits = [\"apple\", \"banana\", \"grapes\"]\n",
    "for index in range(len(fruits)):\n",
    "    print(fruits[index])\n",
    "else:\n",
    "    print(\"Inside Else Block\")"
   ]
  },
  {
   "cell_type": "code",
   "execution_count": 11,
   "id": "c6717987-4cf6-46a5-bca8-1d07aaf87574",
   "metadata": {},
   "outputs": [
    {
     "name": "stdout",
     "output_type": "stream",
     "text": [
      "Hello Programmers\n",
      "Hello Programmers\n",
      "Hello Programmers\n"
     ]
    }
   ],
   "source": [
    "#while loop example\n",
    "count = 0\n",
    "while(count <3):\n",
    "    count = count + 1\n",
    "    print (\"Hello Programmers\")"
   ]
  },
  {
   "cell_type": "code",
   "execution_count": 12,
   "id": "1a1ca288-09c4-4a20-adf0-c4c1795aaed1",
   "metadata": {},
   "outputs": [
    {
     "name": "stdout",
     "output_type": "stream",
     "text": [
      "Hello Programmers\n",
      "Hello Programmers\n",
      "Hello Programmers\n",
      "In Else Block\n"
     ]
    }
   ],
   "source": [
    "#while loop with else example\n",
    "count = 0\n",
    "while(count <3):\n",
    "    count = count + 1\n",
    "    print (\"Hello Programmers\")\n",
    "else: \n",
    "    print(\"In Else Block\")"
   ]
  },
  {
   "cell_type": "code",
   "execution_count": 13,
   "id": "233924d2-1bdc-4720-884d-fb0c62b7229a",
   "metadata": {},
   "outputs": [
    {
     "name": "stdout",
     "output_type": "stream",
     "text": [
      " red \t apple \n",
      "\n",
      " red \t grapes \n",
      "\n",
      " red \t cherry \n",
      "\n",
      "big \t apple \n",
      "\n",
      "big \t grapes \n",
      "\n",
      "big \t cherry \n",
      "\n",
      "tasty \t apple \n",
      "\n",
      "tasty \t grapes \n",
      "\n",
      "tasty \t cherry \n",
      "\n"
     ]
    }
   ],
   "source": [
    "# nested for loop example \n",
    "adj = [\" red\", \"big\", \"tasty\"]\n",
    "fruits = [\"apple\", \"grapes\", \"cherry\"]\n",
    "for x in adj:\n",
    "    for y in fruits:\n",
    "        print(x , '\\t', y, '\\n')\n",
    "        "
   ]
  },
  {
   "cell_type": "code",
   "execution_count": 16,
   "id": "d2404abe-c15e-4eac-b857-9e8a3c8c251d",
   "metadata": {},
   "outputs": [
    {
     "name": "stdout",
     "output_type": "stream",
     "text": [
      "1 \n",
      "2 2 \n",
      "3 3 3 \n",
      "4 4 4 4 \n"
     ]
    }
   ],
   "source": [
    "# nested for loop sequences:\n",
    "# for iterator_var in sequence:\n",
    "#     for iterator_var in sequence:\n",
    "#         statements(s)\n",
    "#    statements(s)\n",
    "for i in range(1,5):\n",
    "    for j in range(i):\n",
    "        print(i, end=\" \")\n",
    "    print()\n"
   ]
  },
  {
   "cell_type": "code",
   "execution_count": 17,
   "id": "e5c27a7d-e568-4ce3-a9ae-da711b094668",
   "metadata": {},
   "outputs": [
    {
     "name": "stdout",
     "output_type": "stream",
     "text": [
      "1 2 3 4 5 6 7 8 9 \n",
      "2 3 4 5 6 7 8 9 \n",
      "3 4 5 6 7 8 9 \n",
      "4 5 6 7 8 9 \n",
      "5 6 7 8 9 \n",
      "6 7 8 9 \n",
      "7 8 9 \n",
      "8 9 \n",
      "9 \n",
      "Completed !\n"
     ]
    }
   ],
   "source": [
    "i = 1\n",
    "while i < 10:\n",
    "    j = i\n",
    "    while j < 10:\n",
    "        print(f\"{j}\", end=\" \")\n",
    "        j = j + 1\n",
    "    print(\"\")\n",
    "    i = i + 1\n",
    "print(\"Completed !\")"
   ]
  },
  {
   "cell_type": "code",
   "execution_count": null,
   "id": "21bf6e05-e31d-47f2-a9da-5087af81b51c",
   "metadata": {},
   "outputs": [],
   "source": []
  }
 ],
 "metadata": {
  "kernelspec": {
   "display_name": "Python 3 (ipykernel)",
   "language": "python",
   "name": "python3"
  },
  "language_info": {
   "codemirror_mode": {
    "name": "ipython",
    "version": 3
   },
   "file_extension": ".py",
   "mimetype": "text/x-python",
   "name": "python",
   "nbconvert_exporter": "python",
   "pygments_lexer": "ipython3",
   "version": "3.12.3"
  }
 },
 "nbformat": 4,
 "nbformat_minor": 5
}
