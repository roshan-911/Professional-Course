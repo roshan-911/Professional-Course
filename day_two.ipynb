{
 "cells": [
  {
   "cell_type": "code",
   "execution_count": 3,
   "id": "b93ecff9-f324-44d6-bbad-17e4794c170c",
   "metadata": {},
   "outputs": [
    {
     "name": "stdout",
     "output_type": "stream",
     "text": [
      "<class 'str'>\n",
      "<class 'int'>\n",
      "<class 'str'>\n",
      "<class 'bool'>\n",
      "Roshan Bohara\n",
      "30\n",
      "Bardiya\n",
      "True\n",
      "Roshan Bohara 30 Bardiya True\n"
     ]
    }
   ],
   "source": [
    "# WAP create variables with literals of int, float, string, boolean\n",
    "# print the type of each variable\n",
    "# print the value of each variable\n",
    "# print tha value of each variable in a sentence\n",
    "# Note: Please use Camel Case or Pascal Case\n",
    "\n",
    "\n",
    "# rules for variables\n",
    "# camel case and pascal case\n",
    "# Creation of Variables\n",
    "name = \"Roshan Bohara\"\n",
    "roll_no = 30\n",
    "Address = \"Bardiya\"\n",
    "Bool = True\n",
    "# Print of type\n",
    "print(type(name))\n",
    "print(type(roll_no))\n",
    "print(type(Address))\n",
    "print(type(Bool))\n",
    "\n",
    "# printing the value\n",
    "print(name)\n",
    "print(roll_no)\n",
    "print(Address)\n",
    "print(Bool)\n",
    "print(name, roll_no, Address, Bool)"
   ]
  },
  {
   "cell_type": "code",
   "execution_count": 4,
   "id": "14bae7e5",
   "metadata": {},
   "outputs": [
    {
     "name": "stdout",
     "output_type": "stream",
     "text": [
      "30\n",
      "10\n",
      "200\n",
      "2.0\n",
      "0\n",
      "100\n",
      "3\n"
     ]
    }
   ],
   "source": [
    "# Arithmetic \n",
    "a = 10\n",
    "b = 20\n",
    "addition = a + b\n",
    "subtraction = b - a\n",
    "multiplication = a * b\n",
    "division = b / a\n",
    "reminder = b % a\n",
    "exponential = a ** 2\n",
    "floor_division = a // 3\n",
    "print(addition)\n",
    "print(subtraction)\n",
    "print(multiplication)\n",
    "print(division)\n",
    "print(reminder)\n",
    "print(exponential)\n",
    "print(floor_division) # floor division remove the digits after decimal\n"
   ]
  },
  {
   "cell_type": "code",
   "execution_count": null,
   "id": "3bfd2c6c",
   "metadata": {},
   "outputs": [],
   "source": [
    "# Assignment"
   ]
  },
  {
   "cell_type": "code",
   "execution_count": null,
   "id": "2e2ce8f0",
   "metadata": {},
   "outputs": [],
   "source": [
    "# Comparision"
   ]
  },
  {
   "cell_type": "code",
   "execution_count": null,
   "id": "3e90d91f",
   "metadata": {},
   "outputs": [],
   "source": [
    "# Logical"
   ]
  },
  {
   "cell_type": "code",
   "execution_count": 7,
   "id": "9bc8de34",
   "metadata": {},
   "outputs": [
    {
     "name": "stdout",
     "output_type": "stream",
     "text": [
      "True\n",
      "True\n"
     ]
    }
   ],
   "source": [
    "# Identity\n",
    "\n",
    "a = 10\n",
    "b = 10\n",
    "print(a is b)\n",
    "\n",
    "\n",
    "a = \"Ram\"\n",
    "b = \"Ram\"\n",
    "print(a is b)"
   ]
  },
  {
   "cell_type": "code",
   "execution_count": null,
   "id": "6f5b8209",
   "metadata": {},
   "outputs": [],
   "source": [
    "# Membership Operator"
   ]
  },
  {
   "cell_type": "code",
   "execution_count": null,
   "id": "00762a3c",
   "metadata": {},
   "outputs": [],
   "source": [
    "# Conditionl Operator\n",
    "# if\n",
    "# if else \n",
    "# nested if\n",
    "# elif ladder\n",
    "# Shorthand is-else statement\n"
   ]
  },
  {
   "cell_type": "code",
   "execution_count": 9,
   "id": "5d9940cf",
   "metadata": {},
   "outputs": [
    {
     "name": "stdout",
     "output_type": "stream",
     "text": [
      "\n"
     ]
    }
   ],
   "source": [
    "# User Input\n",
    "name = input(\"What is your name\")\n",
    "print(name)"
   ]
  }
 ],
 "metadata": {
  "kernelspec": {
   "display_name": "Python 3 (ipykernel)",
   "language": "python",
   "name": "python3"
  },
  "language_info": {
   "codemirror_mode": {
    "name": "ipython",
    "version": 3
   },
   "file_extension": ".py",
   "mimetype": "text/x-python",
   "name": "python",
   "nbconvert_exporter": "python",
   "pygments_lexer": "ipython3",
   "version": "3.12.3"
  }
 },
 "nbformat": 4,
 "nbformat_minor": 5
}
